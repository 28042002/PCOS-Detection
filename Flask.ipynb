{
 "cells": [
  {
   "cell_type": "code",
   "execution_count": 3,
   "metadata": {},
   "outputs": [
    {
     "name": "stdout",
     "output_type": "stream",
     "text": [
      "Requirement already satisfied: flask in c:\\users\\gopib\\anaconda3\\lib\\site-packages (1.1.2)\n",
      "Requirement already satisfied: Werkzeug>=0.15 in c:\\users\\gopib\\anaconda3\\lib\\site-packages (from flask) (1.0.1)\n",
      "Requirement already satisfied: itsdangerous>=0.24 in c:\\users\\gopib\\anaconda3\\lib\\site-packages (from flask) (1.1.0)\n",
      "Requirement already satisfied: click>=5.1 in c:\\users\\gopib\\anaconda3\\lib\\site-packages (from flask) (8.1.3)\n",
      "Requirement already satisfied: Jinja2>=2.10.1 in c:\\users\\gopib\\anaconda3\\lib\\site-packages (from flask) (2.11.2)\n",
      "Requirement already satisfied: colorama; platform_system == \"Windows\" in c:\\users\\gopib\\anaconda3\\lib\\site-packages (from click>=5.1->flask) (0.4.4)\n",
      "Requirement already satisfied: MarkupSafe>=0.23 in c:\\users\\gopib\\anaconda3\\lib\\site-packages (from Jinja2>=2.10.1->flask) (1.1.1)\n"
     ]
    }
   ],
   "source": [
    "!pip install flask"
   ]
  },
  {
   "cell_type": "code",
   "execution_count": 4,
   "metadata": {},
   "outputs": [
    {
     "name": "stdout",
     "output_type": "stream",
     "text": [
      "Collecting html\n",
      "  Using cached html-1.16.tar.gz (7.6 kB)\n",
      "Note: you may need to restart the kernel to use updated packages.\n"
     ]
    },
    {
     "name": "stderr",
     "output_type": "stream",
     "text": [
      "    ERROR: Command errored out with exit status 1:\n",
      "     command: 'C:\\Users\\gopib\\anaconda3\\python.exe' -c 'import sys, setuptools, tokenize; sys.argv[0] = '\"'\"'C:\\\\Users\\\\gopib\\\\AppData\\\\Local\\\\Temp\\\\pip-install-0nhswvps\\\\html\\\\setup.py'\"'\"'; __file__='\"'\"'C:\\\\Users\\\\gopib\\\\AppData\\\\Local\\\\Temp\\\\pip-install-0nhswvps\\\\html\\\\setup.py'\"'\"';f=getattr(tokenize, '\"'\"'open'\"'\"', open)(__file__);code=f.read().replace('\"'\"'\\r\\n'\"'\"', '\"'\"'\\n'\"'\"');f.close();exec(compile(code, __file__, '\"'\"'exec'\"'\"'))' egg_info --egg-base 'C:\\Users\\gopib\\AppData\\Local\\Temp\\pip-pip-egg-info-ydl4eo4h'\n",
      "         cwd: C:\\Users\\gopib\\AppData\\Local\\Temp\\pip-install-0nhswvps\\html\\\n",
      "    Complete output (5 lines):\n",
      "    Traceback (most recent call last):\n",
      "      File \"<string>\", line 1, in <module>\n",
      "      File \"C:\\Users\\gopib\\AppData\\Local\\Temp\\pip-install-0nhswvps\\html\\setup.py\", line 12, in <module>\n",
      "        long_description = __doc__.decode('utf8'),\n",
      "    AttributeError: 'str' object has no attribute 'decode'\n",
      "    ----------------------------------------\n",
      "ERROR: Command errored out with exit status 1: python setup.py egg_info Check the logs for full command output.\n"
     ]
    }
   ],
   "source": [
    "pip install html"
   ]
  },
  {
   "cell_type": "code",
   "execution_count": 5,
   "metadata": {},
   "outputs": [],
   "source": [
    "from IPython.core.display import HTML"
   ]
  },
  {
   "cell_type": "code",
   "execution_count": 7,
   "metadata": {},
   "outputs": [
    {
     "name": "stdout",
     "output_type": "stream",
     "text": [
      " * Serving Flask app \"__main__\" (lazy loading)\n",
      " * Environment: production\n",
      "\u001b[31m   WARNING: This is a development server. Do not use it in a production deployment.\u001b[0m\n",
      "\u001b[2m   Use a production WSGI server instead.\u001b[0m\n",
      " * Debug mode: off\n"
     ]
    },
    {
     "name": "stderr",
     "output_type": "stream",
     "text": [
      " * Running on http://127.0.0.1:5000/ (Press CTRL+C to quit)\n",
      "127.0.0.1 - - [08/Jan/2023 16:15:28] \"\u001b[37mGET / HTTP/1.1\u001b[0m\" 200 -\n",
      "127.0.0.1 - - [08/Jan/2023 16:15:30] \"\u001b[31m\u001b[1mPOST / HTTP/1.1\u001b[0m\" 405 -\n",
      "127.0.0.1 - - [08/Jan/2023 16:15:37] \"\u001b[37mGET /html HTTP/1.1\u001b[0m\" 200 -\n"
     ]
    }
   ],
   "source": [
    "from flask import Flask, render_template\n",
    "import pandas as pd\n",
    "import numpy as np\n",
    "import matplotlib.pyplot as plt\n",
    "import seaborn as sns\n",
    "sns.set(style='darkgrid')\n",
    "from sklearn.linear_model import LogisticRegression\n",
    "from sklearn.model_selection import train_test_split\n",
    "from sklearn.metrics import confusion_matrix\n",
    "from warnings import filterwarnings\n",
    "filterwarnings(\"ignore\")\n",
    "import os\n",
    "import pickle\n",
    "app = Flask(__name__)\n",
    "df_inf=pd.read_csv(\"C:\\\\Users\\\\gopib\\\\Desktop\\\\Flask\\\\static\\\\PCOS_infertility (2).csv\", encoding='iso-8859-1')\n",
    "df_noinf=pd.read_csv(\"C:\\\\Users\\\\gopib\\\\Desktop\\\\Flask\\\\static\\\\data without infertility _final.csv\", encoding='iso-8859-1')\n",
    "corr_features=df_noinf.corrwith(df_noinf[\"PCOS (Y/N)\"]).abs().sort_values(ascending=False)\n",
    "corr_features=corr_features[corr_features>0.4].index\n",
    "df_noinf=df_noinf[corr_features]\n",
    "y=df_noinf['PCOS (Y/N)']\n",
    "X=df_noinf.drop(['PCOS (Y/N)'], axis=1)\n",
    "X_train,X_test,y_train, y_test=train_test_split(X,y, test_size=0.2)\n",
    "model=LogisticRegression()\n",
    "model.fit(X_train,y_train)\n",
    "y_pred=model.predict(X_test)\n",
    "\n",
    "@app.route(\"/\")\n",
    "@app.route(\"/home\")\n",
    "def home():\n",
    "\n",
    "    return render_template(\"home2.html\")\n",
    "\n",
    "@app.route(\"/html\")\n",
    "def html():\n",
    "    if y_pred == 0:\n",
    "        return render_template('index3.html')\n",
    "    else:\n",
    "        return render_template('index2.html')\n",
    "\n",
    "if __name__ == '__main__':\n",
    "    app.run()"
   ]
  },
  {
   "cell_type": "code",
   "execution_count": 10,
   "metadata": {},
   "outputs": [
    {
     "name": "stdout",
     "output_type": "stream",
     "text": [
      " * Serving Flask app \"__main__\" (lazy loading)\n",
      " * Environment: production\n",
      "\u001b[31m   WARNING: This is a development server. Do not use it in a production deployment.\u001b[0m\n",
      "\u001b[2m   Use a production WSGI server instead.\u001b[0m\n",
      " * Debug mode: off\n"
     ]
    },
    {
     "name": "stderr",
     "output_type": "stream",
     "text": [
      " * Running on http://127.0.0.1:5000/ (Press CTRL+C to quit)\n",
      "127.0.0.1 - - [08/Jan/2023 11:10:54] \"\u001b[37mGET / HTTP/1.1\u001b[0m\" 200 -\n",
      "127.0.0.1 - - [08/Jan/2023 11:10:59] \"\u001b[37mGET /html HTTP/1.1\u001b[0m\" 200 -\n",
      "127.0.0.1 - - [08/Jan/2023 11:10:59] \"\u001b[33mGET /css/font-awesome.min.css HTTP/1.1\u001b[0m\" 404 -\n",
      "127.0.0.1 - - [08/Jan/2023 11:10:59] \"\u001b[33mGET /css/bootstrap.min.css HTTP/1.1\u001b[0m\" 404 -\n",
      "127.0.0.1 - - [08/Jan/2023 11:10:59] \"\u001b[33mGET /css/style.css HTTP/1.1\u001b[0m\" 404 -\n",
      "127.0.0.1 - - [08/Jan/2023 11:10:59] \"\u001b[33mGET /js/jquery.min.js HTTP/1.1\u001b[0m\" 404 -\n",
      "127.0.0.1 - - [08/Jan/2023 11:10:59] \"\u001b[33mGET /js/jquery.easing.min.js HTTP/1.1\u001b[0m\" 404 -\n",
      "127.0.0.1 - - [08/Jan/2023 11:10:59] \"\u001b[33mGET /js/bootstrap.min.js HTTP/1.1\u001b[0m\" 404 -\n",
      "127.0.0.1 - - [08/Jan/2023 11:10:59] \"\u001b[33mGET /js/custom.js HTTP/1.1\u001b[0m\" 404 -\n",
      "127.0.0.1 - - [08/Jan/2023 11:10:59] \"\u001b[33mGET /contactform/contactform.js HTTP/1.1\u001b[0m\" 404 -\n",
      "127.0.0.1 - - [08/Jan/2023 11:10:59] \"\u001b[33mGET /img/logo.png HTTP/1.1\u001b[0m\" 404 -\n"
     ]
    }
   ],
   "source": []
  },
  {
   "cell_type": "code",
   "execution_count": 11,
   "metadata": {},
   "outputs": [
    {
     "name": "stdout",
     "output_type": "stream",
     "text": [
      " * Serving Flask app \"__main__\" (lazy loading)\n",
      " * Environment: production\n",
      "\u001b[31m   WARNING: This is a development server. Do not use it in a production deployment.\u001b[0m\n",
      "\u001b[2m   Use a production WSGI server instead.\u001b[0m\n",
      " * Debug mode: off\n"
     ]
    },
    {
     "name": "stderr",
     "output_type": "stream",
     "text": [
      " * Running on http://127.0.0.1:5000/ (Press CTRL+C to quit)\n",
      "127.0.0.1 - - [08/Jan/2023 11:17:11] \"\u001b[37mGET / HTTP/1.1\u001b[0m\" 200 -\n",
      "127.0.0.1 - - [08/Jan/2023 11:17:16] \"\u001b[33mGET /html HTTP/1.1\u001b[0m\" 404 -\n",
      "127.0.0.1 - - [08/Jan/2023 11:17:17] \"\u001b[37mGET /home HTTP/1.1\u001b[0m\" 200 -\n",
      "127.0.0.1 - - [08/Jan/2023 11:17:27] \"\u001b[37mGET /login HTTP/1.1\u001b[0m\" 200 -\n",
      "127.0.0.1 - - [08/Jan/2023 11:17:36] \"\u001b[32mGET /logout HTTP/1.1\u001b[0m\" 302 -\n",
      "127.0.0.1 - - [08/Jan/2023 11:17:36] \"\u001b[37mGET /home HTTP/1.1\u001b[0m\" 200 -\n"
     ]
    }
   ],
   "source": []
  },
  {
   "cell_type": "code",
   "execution_count": 12,
   "metadata": {},
   "outputs": [
    {
     "name": "stdout",
     "output_type": "stream",
     "text": [
      " * Serving Flask app \"__main__\" (lazy loading)\n",
      " * Environment: production\n",
      "\u001b[31m   WARNING: This is a development server. Do not use it in a production deployment.\u001b[0m\n",
      "\u001b[2m   Use a production WSGI server instead.\u001b[0m\n",
      " * Debug mode: off\n"
     ]
    },
    {
     "name": "stderr",
     "output_type": "stream",
     "text": [
      " * Running on http://127.0.0.1:5000/ (Press CTRL+C to quit)\n",
      "127.0.0.1 - - [08/Jan/2023 11:19:17] \"\u001b[37mGET / HTTP/1.1\u001b[0m\" 200 -\n",
      "127.0.0.1 - - [08/Jan/2023 11:19:17] \"\u001b[33mGET /css/font-awesome.min.css HTTP/1.1\u001b[0m\" 404 -\n",
      "127.0.0.1 - - [08/Jan/2023 11:19:17] \"\u001b[33mGET /css/bootstrap.min.css HTTP/1.1\u001b[0m\" 404 -\n",
      "127.0.0.1 - - [08/Jan/2023 11:19:17] \"\u001b[33mGET /css/style.css HTTP/1.1\u001b[0m\" 404 -\n",
      "127.0.0.1 - - [08/Jan/2023 11:19:17] \"\u001b[33mGET /js/jquery.min.js HTTP/1.1\u001b[0m\" 404 -\n",
      "127.0.0.1 - - [08/Jan/2023 11:19:17] \"\u001b[33mGET /js/jquery.easing.min.js HTTP/1.1\u001b[0m\" 404 -\n",
      "127.0.0.1 - - [08/Jan/2023 11:19:17] \"\u001b[33mGET /js/bootstrap.min.js HTTP/1.1\u001b[0m\" 404 -\n",
      "127.0.0.1 - - [08/Jan/2023 11:19:17] \"\u001b[33mGET /js/custom.js HTTP/1.1\u001b[0m\" 404 -\n",
      "127.0.0.1 - - [08/Jan/2023 11:19:17] \"\u001b[33mGET /contactform/contactform.js HTTP/1.1\u001b[0m\" 404 -\n",
      "127.0.0.1 - - [08/Jan/2023 11:19:17] \"\u001b[33mGET /img/logo.png HTTP/1.1\u001b[0m\" 404 -\n",
      "127.0.0.1 - - [08/Jan/2023 11:19:31] \"\u001b[37mGET /login HTTP/1.1\u001b[0m\" 200 -\n",
      "127.0.0.1 - - [08/Jan/2023 11:19:39] \"\u001b[32mGET /logout HTTP/1.1\u001b[0m\" 302 -\n",
      "127.0.0.1 - - [08/Jan/2023 11:19:39] \"\u001b[37mGET /home HTTP/1.1\u001b[0m\" 200 -\n",
      "127.0.0.1 - - [08/Jan/2023 11:19:39] \"\u001b[33mGET /css/font-awesome.min.css HTTP/1.1\u001b[0m\" 404 -\n",
      "127.0.0.1 - - [08/Jan/2023 11:19:39] \"\u001b[33mGET /css/bootstrap.min.css HTTP/1.1\u001b[0m\" 404 -\n",
      "127.0.0.1 - - [08/Jan/2023 11:19:39] \"\u001b[33mGET /css/style.css HTTP/1.1\u001b[0m\" 404 -\n",
      "127.0.0.1 - - [08/Jan/2023 11:19:39] \"\u001b[33mGET /js/jquery.min.js HTTP/1.1\u001b[0m\" 404 -\n",
      "127.0.0.1 - - [08/Jan/2023 11:19:39] \"\u001b[33mGET /js/jquery.easing.min.js HTTP/1.1\u001b[0m\" 404 -\n",
      "127.0.0.1 - - [08/Jan/2023 11:19:39] \"\u001b[33mGET /js/bootstrap.min.js HTTP/1.1\u001b[0m\" 404 -\n",
      "127.0.0.1 - - [08/Jan/2023 11:19:39] \"\u001b[33mGET /js/custom.js HTTP/1.1\u001b[0m\" 404 -\n",
      "127.0.0.1 - - [08/Jan/2023 11:19:40] \"\u001b[33mGET /contactform/contactform.js HTTP/1.1\u001b[0m\" 404 -\n",
      "127.0.0.1 - - [08/Jan/2023 11:19:40] \"\u001b[33mGET /img/logo.png HTTP/1.1\u001b[0m\" 404 -\n"
     ]
    }
   ],
   "source": []
  },
  {
   "cell_type": "code",
   "execution_count": 1,
   "metadata": {},
   "outputs": [
    {
     "ename": "SyntaxError",
     "evalue": "cannot assign to operator (<ipython-input-1-3669b7667e42>, line 23)",
     "output_type": "error",
     "traceback": [
      "\u001b[1;36m  File \u001b[1;32m\"<ipython-input-1-3669b7667e42>\"\u001b[1;36m, line \u001b[1;32m23\u001b[0m\n\u001b[1;33m    beta-HCG(mIU/mL) = request.form['beta-HCG(mIU/mL)']\u001b[0m\n\u001b[1;37m    ^\u001b[0m\n\u001b[1;31mSyntaxError\u001b[0m\u001b[1;31m:\u001b[0m cannot assign to operator\n"
     ]
    }
   ],
   "source": []
  },
  {
   "cell_type": "code",
   "execution_count": 24,
   "metadata": {},
   "outputs": [
    {
     "name": "stdout",
     "output_type": "stream",
     "text": [
      "Requirement already satisfied: openpyxl==3.0.7 in c:\\users\\gopib\\anaconda3\\lib\\site-packages (3.0.7)\n",
      "Requirement already satisfied: et-xmlfile in c:\\users\\gopib\\anaconda3\\lib\\site-packages (from openpyxl==3.0.7) (1.0.1)\n"
     ]
    }
   ],
   "source": []
  },
  {
   "cell_type": "code",
   "execution_count": 22,
   "metadata": {},
   "outputs": [
    {
     "name": "stdout",
     "output_type": "stream",
     "text": [
      "Requirement already satisfied: pandas in c:\\users\\gopib\\anaconda3\\lib\\site-packages (1.5.2)\n",
      "Requirement already satisfied: python-dateutil>=2.8.1 in c:\\users\\gopib\\anaconda3\\lib\\site-packages (from pandas) (2.8.1)\n",
      "Requirement already satisfied: numpy>=1.20.3; python_version < \"3.10\" in c:\\users\\gopib\\anaconda3\\lib\\site-packages (from pandas) (1.21.0)\n",
      "Requirement already satisfied: pytz>=2020.1 in c:\\users\\gopib\\anaconda3\\lib\\site-packages (from pandas) (2020.1)\n",
      "Requirement already satisfied: six>=1.5 in c:\\users\\gopib\\anaconda3\\lib\\site-packages (from python-dateutil>=2.8.1->pandas) (1.16.0)\n"
     ]
    }
   ],
   "source": []
  },
  {
   "cell_type": "code",
   "execution_count": 35,
   "metadata": {},
   "outputs": [
    {
     "name": "stdout",
     "output_type": "stream",
     "text": [
      "Collecting PySide\n",
      "  Downloading PySide-1.2.4.tar.gz (9.3 MB)\n"
     ]
    },
    {
     "name": "stderr",
     "output_type": "stream",
     "text": [
      "    ERROR: Command errored out with exit status 1:\n",
      "     command: 'C:\\Users\\gopib\\anaconda3\\python.exe' -c 'import sys, setuptools, tokenize; sys.argv[0] = '\"'\"'C:\\\\Users\\\\gopib\\\\AppData\\\\Local\\\\Temp\\\\pip-install-zb5ias5f\\\\pyside\\\\setup.py'\"'\"'; __file__='\"'\"'C:\\\\Users\\\\gopib\\\\AppData\\\\Local\\\\Temp\\\\pip-install-zb5ias5f\\\\pyside\\\\setup.py'\"'\"';f=getattr(tokenize, '\"'\"'open'\"'\"', open)(__file__);code=f.read().replace('\"'\"'\\r\\n'\"'\"', '\"'\"'\\n'\"'\"');f.close();exec(compile(code, __file__, '\"'\"'exec'\"'\"'))' egg_info --egg-base 'C:\\Users\\gopib\\AppData\\Local\\Temp\\pip-pip-egg-info-vk7m19q8'\n",
      "         cwd: C:\\Users\\gopib\\AppData\\Local\\Temp\\pip-install-zb5ias5f\\pyside\\\n",
      "    Complete output (1 lines):\n",
      "    only these python versions are supported: [(2, 6), (2, 7), (3, 2), (3, 3), (3, 4)]\n",
      "    ----------------------------------------\n",
      "ERROR: Command errored out with exit status 1: python setup.py egg_info Check the logs for full command output.\n"
     ]
    },
    {
     "ename": "ModuleNotFoundError",
     "evalue": "No module named 'PySide'",
     "output_type": "error",
     "traceback": [
      "\u001b[1;31m---------------------------------------------------------------------------\u001b[0m",
      "\u001b[1;31mModuleNotFoundError\u001b[0m                       Traceback (most recent call last)",
      "\u001b[1;32m<ipython-input-35-a05ee7269be1>\u001b[0m in \u001b[0;36m<module>\u001b[1;34m\u001b[0m\n\u001b[0;32m      1\u001b[0m \u001b[0mget_ipython\u001b[0m\u001b[1;33m(\u001b[0m\u001b[1;33m)\u001b[0m\u001b[1;33m.\u001b[0m\u001b[0msystem\u001b[0m\u001b[1;33m(\u001b[0m\u001b[1;34m'pip install PySide'\u001b[0m\u001b[1;33m)\u001b[0m\u001b[1;33m\u001b[0m\u001b[1;33m\u001b[0m\u001b[0m\n\u001b[1;32m----> 2\u001b[1;33m \u001b[1;32mfrom\u001b[0m \u001b[0mPySide\u001b[0m\u001b[1;33m.\u001b[0m\u001b[0mQtCore\u001b[0m \u001b[1;32mimport\u001b[0m \u001b[1;33m*\u001b[0m\u001b[1;33m\u001b[0m\u001b[1;33m\u001b[0m\u001b[0m\n\u001b[0m\u001b[0;32m      3\u001b[0m \u001b[1;32mfrom\u001b[0m \u001b[0mPySide\u001b[0m\u001b[1;33m.\u001b[0m\u001b[0mQtGui\u001b[0m \u001b[1;32mimport\u001b[0m \u001b[1;33m*\u001b[0m\u001b[1;33m\u001b[0m\u001b[1;33m\u001b[0m\u001b[0m\n\u001b[0;32m      4\u001b[0m \u001b[1;32mimport\u001b[0m \u001b[0msys\u001b[0m\u001b[1;33m\u001b[0m\u001b[1;33m\u001b[0m\u001b[0m\n",
      "\u001b[1;31mModuleNotFoundError\u001b[0m: No module named 'PySide'"
     ]
    }
   ],
   "source": []
  },
  {
   "cell_type": "code",
   "execution_count": 36,
   "metadata": {},
   "outputs": [
    {
     "name": "stderr",
     "output_type": "stream",
     "text": [
      "ERROR: Could not find a version that satisfies the requirement python3-pyside (from versions: none)\n",
      "ERROR: No matching distribution found for python3-pyside\n"
     ]
    }
   ],
   "source": []
  },
  {
   "cell_type": "code",
   "execution_count": 8,
   "metadata": {},
   "outputs": [
    {
     "name": "stdout",
     "output_type": "stream",
     "text": [
      " * Serving Flask app \"__main__\" (lazy loading)\n",
      " * Environment: production\n",
      "\u001b[31m   WARNING: This is a development server. Do not use it in a production deployment.\u001b[0m\n",
      "\u001b[2m   Use a production WSGI server instead.\u001b[0m\n",
      " * Debug mode: on\n"
     ]
    },
    {
     "name": "stderr",
     "output_type": "stream",
     "text": [
      " * Restarting with windowsapi reloader\n"
     ]
    },
    {
     "ename": "SystemExit",
     "evalue": "1",
     "output_type": "error",
     "traceback": [
      "An exception has occurred, use %tb to see the full traceback.\n",
      "\u001b[1;31mSystemExit\u001b[0m\u001b[1;31m:\u001b[0m 1\n"
     ]
    },
    {
     "name": "stderr",
     "output_type": "stream",
     "text": [
      "C:\\Users\\gopib\\anaconda3\\lib\\site-packages\\IPython\\core\\interactiveshell.py:3426: UserWarning: To exit: use 'exit', 'quit', or Ctrl-D.\n",
      "  warn(\"To exit: use 'exit', 'quit', or Ctrl-D.\", stacklevel=1)\n"
     ]
    }
   ],
   "source": []
  },
  {
   "cell_type": "code",
   "execution_count": null,
   "metadata": {},
   "outputs": [],
   "source": []
  },
  {
   "cell_type": "code",
   "execution_count": null,
   "metadata": {},
   "outputs": [],
   "source": []
  }
 ],
 "metadata": {
  "kernelspec": {
   "display_name": "Python 3",
   "language": "python",
   "name": "python3"
  },
  "language_info": {
   "codemirror_mode": {
    "name": "ipython",
    "version": 3
   },
   "file_extension": ".py",
   "mimetype": "text/x-python",
   "name": "python",
   "nbconvert_exporter": "python",
   "pygments_lexer": "ipython3",
   "version": "3.8.5"
  }
 },
 "nbformat": 4,
 "nbformat_minor": 4
}
